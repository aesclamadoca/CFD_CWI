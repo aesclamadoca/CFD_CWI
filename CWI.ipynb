{
 "cells": [
  {
   "cell_type": "code",
   "execution_count": 2,
   "metadata": {},
   "outputs": [],
   "source": [
    "import time\n",
    "import numpy as np\n",
    "import pandas as pd\n",
    "from matplotlib import pyplot as plt\n",
    "\n",
    "import os\n",
    "phi_dir='ae518_plots/phi_distribution_plots'\n",
    "error_dir='ae518_plots/error_plots'\n",
    "if not os.path.exists(phi_dir):\n",
    "    os.makedirs(phi_dir)\n",
    "if not os.path.exists(error_dir):\n",
    "    os.makedirs(error_dir)\n",
    "# Run -defaults write org.python.python ApplePersistenceIgnoreState NO- before executing -python3 <filename>- if running from mac terminal"
   ]
  },
  {
   "cell_type": "markdown",
   "metadata": {},
   "source": [
    "# Solver Class"
   ]
  },
  {
   "cell_type": "code",
   "execution_count": 3,
   "metadata": {},
   "outputs": [],
   "source": [
    "class solver():\n",
    "\n",
    "  def __init__(self,\n",
    "              scheme_acronym, \n",
    "              fluid_velocity = 1,\n",
    "              fluid_density = 0.5,\n",
    "              Gamma = 0.5,\n",
    "              domain_L = 1,\n",
    "              inlet_bc = 100,\n",
    "              outlet_bc = 20,\n",
    "              gridpoints = 10\n",
    "              ):\n",
    "    \n",
    "    # Global Attributes\n",
    "    self.scheme = scheme_acronym\n",
    "    \n",
    "    self.u = fluid_velocity\n",
    "    self.rho = fluid_density\n",
    "    self.Gamma = Gamma\n",
    "    self.L = domain_L\n",
    "    self.dx = self.L/gridpoints\n",
    "    self.global_Pe = self.rho * self.u * self.L / self.Gamma\n",
    "    self.local_Pe = self.rho * self.u * self.dx / self.Gamma\n",
    "    \n",
    "    self.x = np.array([i*self.dx for i in range(gridpoints)])\n",
    "    self.phi_0 = inlet_bc\n",
    "    self.phi_L = outlet_bc\n",
    "    \n",
    "    self.analytical_phi = np.zeros(50*len(self.x))\n",
    "    self.phi = np.zeros(gridpoints)\n",
    "    self.P = np.zeros(gridpoints)\n",
    "    self.Q = np.zeros(gridpoints)\n",
    "    self.error = 0\n",
    "\n",
    "    #Solve for phi and calc error\n",
    "    if self.scheme == \"CDS\": self.CDS()\n",
    "    elif self.scheme == \"UDS\": self.UDS()\n",
    "    elif self.scheme == \"PLDS\": self.PLDS()\n",
    "    self.analytical_soln()\n",
    "    self.numerical_error()\n",
    "\n",
    "  # Getter methods\n",
    "  def get_local_Pe(self): return self.local_Pe\n",
    "  def get_x(self): return self.x\n",
    "  def get_P(self): return self.P\n",
    "  def get_Q(self): return self.Q\n",
    "  def get_numerical_phi(self): return self.phi\n",
    "  def get_analytical_phi(self): return self.analytical_phi\n",
    "  def get_rho(self): return self.rho\n",
    "  def get_u(self): return self.u\n",
    "  def get_Gamma(self): return self.Gamma\n",
    "  def get_gridpoint_n(self): return int(self.L/self.dx)\n",
    "  def get_error(self): return self.error\n",
    "\n",
    "\n",
    "  # Discretization Schemes\n",
    "  def CDS(self):\n",
    "    D = self.Gamma / self.dx\n",
    "    F = self.rho * self.u\n",
    "    #Coefficients\n",
    "    a = 2*D\n",
    "    b = D - 0.5 * F\n",
    "    c = D + 0.5 * F\n",
    "\n",
    "    self.TDMA(a,b,c)\n",
    "  \n",
    "  def UDS(self):\n",
    "    D = self.Gamma / self.dx\n",
    "    F = self.rho * self.u\n",
    "    #Coefficients\n",
    "    a = 2*D + max(F,0) + max(-F,0)\n",
    "    b = D + max(-F,0)\n",
    "    c = D + max(F,0)\n",
    "  \n",
    "    self.TDMA(a,b,c)\n",
    "\n",
    "  def PLDS(self):\n",
    "    D = self.Gamma / self.dx\n",
    "    F = self.rho * self.u\n",
    "    #Coefficients\n",
    "    b = D*max((1-0.1*self.local_Pe)**5,0) + max(-F,0)\n",
    "    c = D*max((1-0.1*self.local_Pe)**5,0) + max(F,0)\n",
    "    a = b + c\n",
    "  \n",
    "    self.TDMA(a,b,c)\n",
    "\n",
    "\n",
    "\n",
    "\n",
    "  ## Use Linear Algebraic Equation Solution Algorithm TDMA\n",
    "  def TDMA(self,a,b,c):\n",
    "    # Set BCs\n",
    "    self.P[0], self.P[-1] = 0,0\n",
    "    self.Q[0], self.Q[-1] = self.phi_0, self.phi_L\n",
    "\n",
    "    # Forward Pass to calculate P and Q\n",
    "    for i in [x+1 for x in range(len(self.x)-2)]:\n",
    "      self.P[i] = b / (a - c*self.P[i-1])\n",
    "      self.Q[i] = c*self.Q[i-1] / (a - c*self.P[i-1])\n",
    "\n",
    "    # Backward Pass to calculate phi\n",
    "    self.phi[-1] = self.Q[-1]\n",
    "    for i in [y for y in range(len(self.x)-1)][::-1]:\n",
    "      self.phi[i] = self.P[i] * self.phi[i+1] + self.Q[i]\n",
    "  \n",
    "\n",
    "\n",
    "\n",
    "  def analytical_soln(self):\n",
    "    x_domain = np.array([x/50/len(self.x) for x in range(50*len(self.x))])\n",
    "    self.analytical_phi = self.phi_0 + (np.exp(self.global_Pe * x_domain/self.L)-1)/(np.exp(self.global_Pe)-1) * (self.phi_L-self.phi_0)\n",
    "\n",
    "  def numerical_error(self):\n",
    "    for i in range(len(self.phi)):\n",
    "      self.error += 100*self.dx/self.L * (self.phi[i]-self.analytical_phi[10*i])/self.analytical_phi[10*i]\n",
    "    \n",
    "\n",
    "  "
   ]
  },
  {
   "cell_type": "code",
   "execution_count": 4,
   "metadata": {},
   "outputs": [],
   "source": [
    "def phi_distribution_plot(scheme, velocity, gripoints):\n",
    "\n",
    "  solve = solver(scheme,fluid_velocity=velocity,gridpoints=gripoints)\n",
    "  print(f\"\"\"Domain properties are set to: \n",
    "        Gamma_phi = {solve.get_Gamma()}\n",
    "        Fluid Density = {solve.get_rho()} kg/m^3\n",
    "        Fluid Velocity = {solve.get_u()} m/s\n",
    "        Number of Gridpoints = {solve.get_gridpoint_n()}\"\"\")\n",
    "  print('Solving equation in the Domain ...')\n",
    "\n",
    "  # Solve for phi\n",
    "  analytical_phi = solve.get_analytical_phi()\n",
    "  start_time = time.time()\n",
    "  numerical_phi = solve.get_numerical_phi()\n",
    "  end_time = time.time()\n",
    "  print(f\"It took {end_time-start_time}s to solve the equation.\")\n",
    "  print(f'% Error = {round(solve.get_error(),2)}')\n",
    "  print(f'|Local Pe| = {abs(solve.get_local_Pe())}')\n",
    "  print(f\"Saving plot of phi distribution along the domain to {phi_dir}/{scheme}...\\n\\n\")\n",
    "\n",
    "  # Plot phi\n",
    "  fig = plt.figure()\n",
    "  plt.plot([x/50/len(solve.x) for x in range(50*len(solve.x))],analytical_phi,label='Analytical Solution')\n",
    "  plt.plot(solve.get_x(),numerical_phi,label=f'Numerical Solution ({scheme})')\n",
    "\n",
    "  plt.title(r'Distribution of $\\phi$ along the domain')\n",
    "  plt.xlabel('x')\n",
    "  plt.ylabel(r'$\\phi$')\n",
    "  plt.legend()\n",
    "  # plt.show()\n",
    "  plt.savefig(f'{phi_dir}/{scheme}',dpi=800)\n"
   ]
  },
  {
   "cell_type": "markdown",
   "metadata": {},
   "source": [
    "# Main"
   ]
  },
  {
   "cell_type": "code",
   "execution_count": 12,
   "metadata": {},
   "outputs": [
    {
     "name": "stdout",
     "output_type": "stream",
     "text": [
      "What constant fluid velocity would you like to test? Please enter an integer or float.\n",
      "The constant fluid velocity in the domain has been set to -10 m/s\n",
      "What number of gridpoints would you like to test? Please enter an integer.\n",
      "The number of gridpoints in the domain has been set to 200 \n",
      "Please choose a discretization scheme. Type one of the following options into the command prompt: \n",
      "\tCDS \n",
      "\tUDS \n",
      "\tPLDS\n",
      "You have chosen to discretize the convection component of the phi convection-diffusion equation with the Central Differencing Scheme\n",
      "\n",
      "\n",
      "Domain properties are set to: \n",
      "        Gamma_phi = 0.5\n",
      "        Fluid Density = 0.5 kg/m^3\n",
      "        Fluid Velocity = -10 m/s\n",
      "        Number of Gridpoints = 200\n",
      "Solving equation in the Domain ...\n",
      "It took 9.5367431640625e-07s to solve the equation.\n",
      "% Error = -49.33\n",
      "|Local Pe| = 0.05\n",
      "Saving plot of phi distribution along the domain to <built-in function dir>/CDS...\n",
      "\n",
      "\n"
     ]
    },
    {
     "data": {
      "image/png": "[encoded data removed]",
      "text/plain": [
       "<Figure size 432x288 with 1 Axes>"
      ]
     },
     "metadata": {
      "needs_background": "light"
     },
     "output_type": "display_data"
    }
   ],
   "source": [
    "scheme_dict = {'CDS':'Central Differencing Scheme',\n",
    "               'UDS':'Upwind Differencing Scheme',\n",
    "               'PLDS':'Power Law Differencing Scheme'}\n",
    "\n",
    "#Ask user what fluid velocity and number of gripoints they would like to try\n",
    "attribute_prompt = {'constant fluid velocity':('m/s',' or float'),\n",
    "                    'number of gridpoints':('','')}\n",
    "for attribute, dec in attribute_prompt.items():\n",
    "  while True:\n",
    "    print(f\"What {attribute} would you like to test? Please enter an integer{dec[1]}.\")\n",
    "    num_attribute = input()\n",
    "    try: num_attribute = int(num_attribute)\n",
    "    except ValueError:\n",
    "      try: num_attribute = float(num_attribute)\n",
    "      except ValueError: continue\n",
    "    if attribute == 'constant fluid velocity': \n",
    "      velocity = num_attribute\n",
    "      print(f'The {attribute} in the domain has been set to {velocity} {dec[0]}')\n",
    "    if attribute == 'number of gridpoints': \n",
    "      gridpoints = int(num_attribute)\n",
    "      print(f'The {attribute} in the domain has been set to {gridpoints} {dec[0]}')\n",
    "    break\n",
    "\n",
    "  \n",
    "\n",
    "#Ask user what type of differencing scheme they would like to try\n",
    "while True:\n",
    "  print(\"Please choose a discretization scheme. Type one of the following options into the command prompt: \\n\\tCDS \\n\\tUDS \\n\\tPLDS\")\n",
    "  scheme_text = input()\n",
    "  if scheme_text in ['CDS','UDS','PLDS']: break\n",
    "  print(\"Please ensure you have entered the acronym in all caps with no spaces!\")\n",
    "print(f\"You have chosen to discretize the convection component of the phi convection-diffusion equation with the {scheme_dict[scheme_text]}\\n\\n\")\n",
    "\n",
    "#Plot the numerical solution against the analytical solution\n",
    "phi_distribution_plot(scheme_text,velocity,gridpoints)\n"
   ]
  },
  {
   "cell_type": "markdown",
   "metadata": {},
   "source": [
    "# Error Plots"
   ]
  },
  {
   "cell_type": "code",
   "execution_count": 11,
   "metadata": {},
   "outputs": [
    {
     "data": {
      "image/png": "[encoded data removed]",
      "text/plain": [
       "<Figure size 432x288 with 1 Axes>"
      ]
     },
     "metadata": {
      "needs_background": "light"
     },
     "output_type": "display_data"
    }
   ],
   "source": [
    "scheme = 'PLDS'\n",
    "for u in np.linspace(-1,-50,5):\n",
    "  error_list = []\n",
    "  gp_list = np.linspace(2,100)\n",
    "\n",
    "  for gridpoints in gp_list:\n",
    "    solve = solver(scheme,gridpoints=int(gridpoints),fluid_velocity=u)\n",
    "    error_list.append(solve.get_error())\n",
    "\n",
    "\n",
    "  plt.plot(gp_list,error_list,linewidth=0.5,label=f'u = {u}m/s')\n",
    "  plt.title(f'Error of numerical {scheme} Solution w.r.t the Analytical Solution')\n",
    "  plt.ylabel('% Error ')\n",
    "  plt.xlabel('Number of Gridpoints (1/dx)')\n",
    "\n",
    "plt.legend()\n",
    "plt.savefig(f'{error_dir}/{scheme}_error',dpi=800)"
   ]
  },
  {
   "cell_type": "code",
   "execution_count": 6,
   "metadata": {},
   "outputs": [
    {
     "data": {
      "text/plain": [
       "<matplotlib.legend.Legend at 0x7f8020ace220>"
      ]
     },
     "execution_count": 6,
     "metadata": {},
     "output_type": "execute_result"
    },
    {
     "data": {
      "image/png": "[encoded data removed]",
      "text/plain": [
       "<Figure size 432x288 with 1 Axes>"
      ]
     },
     "metadata": {
      "needs_background": "light"
     },
     "output_type": "display_data"
    }
   ],
   "source": [
    "for scheme in ['CDS','UDS','PLDS']:\n",
    "  error_list = []\n",
    "  gp_list = np.linspace(5,1000)\n",
    "  scheme_velocity = 0\n",
    "  for gridpoints in gp_list:\n",
    "    solve = solver(scheme,fluid_velocity=-10,gridpoints=int(gridpoints))\n",
    "    scheme_velocity = solve.get_u()\n",
    "    error_list.append(solve.get_error())\n",
    "\n",
    "  plt.plot(gp_list,error_list,label=f'scheme = {scheme}')\n",
    "  plt.title(f' numerical error for u={scheme_velocity}m/s')\n",
    "  plt.ylabel('% Error ')\n",
    "  plt.xlabel('Number of Gridpoints (1/dx)')\n",
    "\n",
    "plt.legend()"
   ]
  },
  {
   "cell_type": "code",
   "execution_count": null,
   "metadata": {},
   "outputs": [],
   "source": []
  }
 ],
 "metadata": {
  "interpreter": {
   "hash": "aee8b7b246df8f9039afb4144a1f6fd8d2ca17a180786b69acc140d282b71a49"
  },
  "kernelspec": {
   "display_name": "Python 3.8.0 64-bit",
   "language": "python",
   "name": "python3"
  },
  "language_info": {
   "codemirror_mode": {
    "name": "ipython",
    "version": 3
   },
   "file_extension": ".py",
   "mimetype": "text/x-python",
   "name": "python",
   "nbconvert_exporter": "python",
   "pygments_lexer": "ipython3",
   "version": "3.8.0"
  },
  "orig_nbformat": 4
 },
 "nbformat": 4,
 "nbformat_minor": 2
}
