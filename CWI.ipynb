{
 "cells": [
  {
   "cell_type": "code",
   "execution_count": 123,
   "metadata": {},
   "outputs": [],
   "source": [
    "import numpy as np\n",
    "import pandas as pd\n",
    "from matplotlib import pyplot as plt\n",
    "\n",
    "import os\n",
    "dir='Plots'\n",
    "if not os.path.exists(dir):\n",
    "    os.makedirs(dir)"
   ]
  },
  {
   "cell_type": "markdown",
   "metadata": {},
   "source": [
    "# Solver Class"
   ]
  },
  {
   "cell_type": "code",
   "execution_count": 130,
   "metadata": {},
   "outputs": [],
   "source": [
    "class solver():\n",
    "\n",
    "  def __init__(self,\n",
    "              scheme_acronym, \n",
    "              fluid_velocity = 2,\n",
    "              fluid_density = 0.5,\n",
    "              Gamma = 0.5,\n",
    "              domain_L = 5,\n",
    "              inlet_bc = 100,\n",
    "              outlet_bc = 20,\n",
    "              grid_spacing = 1e-2\n",
    "              ):\n",
    "    \n",
    "    # Global Attributes\n",
    "    self.scheme = scheme_acronym\n",
    "    self.u = fluid_velocity\n",
    "    self.rho = fluid_density\n",
    "    self.Gamma = Gamma\n",
    "    self.L = domain_L\n",
    "    self.phi_0 = inlet_bc\n",
    "    self.phi_L = outlet_bc\n",
    "    self.dx = grid_spacing\n",
    "    self.global_Pe = self.rho * self.u * self.L / self.Gamma\n",
    "    self.local_Pe = self.rho * self.u * self.dx / self.Gamma\n",
    "    self.x = np.array([i*self.dx for i in range(int(self.L/self.dx))])\n",
    "    self.analytical_phi = np.zeros(int(self.L/self.dx))\n",
    "    self.phi = np.zeros(int(self.L/self.dx))\n",
    "\n",
    "    # CDS phi and Coefficients for constant u,dx,Gamma\n",
    "    self.phi = np.zeros(int(self.L/self.dx))\n",
    "    self.P = np.zeros(int(self.L/self.dx))\n",
    "    self.Q = np.zeros(int(self.L/self.dx))\n",
    "    self.a = 2*self.Gamma / self.dx\n",
    "    self.b = self.Gamma / self.dx - 0.5 * self.rho * self.u\n",
    "    self.c = self.Gamma / self.dx + 0.5 * self.rho * self.u\n",
    "\n",
    "    #Solve for phi\n",
    "    if self.scheme == \"CDS\": self.CDS()\n",
    "    elif self.scheme == \"UDS\": self.UDS()\n",
    "    elif self.scheme == \"PLDS\": self.PLDS()\n",
    "    self.analytical_soln()\n",
    "\n",
    "  # Getter methods\n",
    "  def get_local_Pe(self): return self.local_Pe\n",
    "  def get_x(self): return self.x\n",
    "  def get_P(self): return self.P\n",
    "  def get_Q(self): return self.Q\n",
    "  def get_numerical_phi(self): return self.phi\n",
    "  def get_analytical_phi(self): return self.analytical_phi\n",
    "  \n",
    "  ## Use Linear Algebraic Equation Solution Algorithm TDMA\n",
    "  \n",
    "  def CDS(self):\n",
    "    # Forward Pass to calculate P and Q\n",
    "    self.P[0] = 0\n",
    "    self.Q[0] = self.phi_0 \n",
    "    self.Q[-1] = self.phi_L\n",
    "    for i in range(1,len(self.x)-1):\n",
    "      self.P[i] = self.b / (self.a - self.P[i-1])\n",
    "      self.Q[i] = self.Q[i-1] / (self.a - self.P[i-1])\n",
    "      print\n",
    "    # Backward Pass to calculate phi\n",
    "    self.phi[-1] = self.Q[-1]\n",
    "    for i in [y for y in range(1,len(self.x)-1)][::-1]:\n",
    "      self.phi[i-1] = self.P[i] * self.phi[i+1] + self.Q[i]\n",
    "\n",
    "  # def UDS():\n",
    "  \n",
    "  # def PLDS():\n",
    "\n",
    "  def analytical_soln(self):\n",
    "    self.analytical_phi = self.phi_0 + (np.exp(self.global_Pe * self.x/self.L)-1)/(np.exp(self.global_Pe)-1) * (self.phi_L-self.phi_0)\n",
    "\n",
    "  "
   ]
  },
  {
   "cell_type": "code",
   "execution_count": 128,
   "metadata": {},
   "outputs": [],
   "source": [
    "def comp_phi_plot(scheme):\n",
    "  solve = solver(scheme)\n",
    "  analytical_phi = solve.get_analytical_phi()\n",
    "  if scheme == \"CDS\": numerical_phi = solve.get_numerical_phi()\n",
    "  elif scheme == \"UDS\": numerical_phi = solve.UDS()\n",
    "  elif scheme == \"PLDS\": numerical_phi = solve.PLDS()\n",
    "  else:\n",
    "    print(\"Please enter a valid discrtization scheme acronym\")\n",
    "    return\n",
    "\n",
    "  plt.plot(solve.get_x(),analytical_phi,label='Analytical Solution')\n",
    "  plt.plot(solve.get_x(),numerical_phi,label=f'Numerical Solution ({scheme})')\n",
    "\n",
    "  plt.title(r'Distribution of $\\phi$ along the domain')\n",
    "  plt.xlabel('x')\n",
    "  plt.ylabel(r'$\\phi$')\n",
    "  plt.legend()\n",
    "  # plt.show()\n",
    "  plt.savefig(f'{dir}/CDS',dpi=800)"
   ]
  },
  {
   "cell_type": "markdown",
   "metadata": {},
   "source": [
    "# Main"
   ]
  },
  {
   "cell_type": "code",
   "execution_count": 131,
   "metadata": {},
   "outputs": [
    {
     "name": "stdout",
     "output_type": "stream",
     "text": [
      "Please choose a discretization scheme. Type one of the following options into the command prompt: \n",
      "\tCDS \n",
      "\tUDS \n",
      "\tPLDS\n",
      "You have chosen to discretize the convection component of the phi convection-diffusion equation with the Central Differencing Scheme\n",
      "\n",
      "\n",
      "Do you want to terminate the program? \n",
      "\tyes \n",
      "\tno\n"
     ]
    },
    {
     "data": {
      "image/png": "[encoded data removed]",
      "text/plain": [
       "<Figure size 432x288 with 1 Axes>"
      ]
     },
     "metadata": {
      "needs_background": "light"
     },
     "output_type": "display_data"
    }
   ],
   "source": [
    "scheme_dict = {'CDS':'Central Differencing Scheme',\n",
    "               'UDS':'Upwind Differencing Scheme',\n",
    "               'PLDS':'Power Law Differencing Scheme'}\n",
    "\n",
    "end_condition = False\n",
    "while not end_condition:\n",
    "  #Ask user what type of differencing scheme they would like to try\n",
    "  while True:\n",
    "    print(\"Please choose a discretization scheme. Type one of the following options into the command prompt: \\n\\tCDS \\n\\tUDS \\n\\tPLDS\")\n",
    "    scheme_text = input()\n",
    "    if scheme_text in ['CDS','UDS','PLDS']: break\n",
    "    print(\"Please ensure you have entered the acronym in all caps with no spaces!\")\n",
    "  print(f\"You have chosen to discretize the convection component of the phi convection-diffusion equation with the {scheme_dict[scheme_text]}\\n\\n\")\n",
    "\n",
    "  #Plot the numerical solution against the analytical solution\n",
    "  comp_phi_plot(scheme_text)\n",
    "\n",
    "  while True:\n",
    "    print(\"Do you want to terminate the program? \\n\\tyes \\n\\tno\")\n",
    "    break_cmd = input()\n",
    "    if break_cmd == 'yes': end_condition = True\n",
    "    if break_cmd in ['yes','no']: break\n",
    "    print(\"Please type your response as presented above.\")"
   ]
  },
  {
   "cell_type": "markdown",
   "metadata": {},
   "source": [
    "# Test Cell"
   ]
  },
  {
   "cell_type": "code",
   "execution_count": 117,
   "metadata": {},
   "outputs": [
    {
     "data": {
      "text/plain": [
       "0.2"
      ]
     },
     "execution_count": 117,
     "metadata": {},
     "output_type": "execute_result"
    }
   ],
   "source": [
    "solve = solver('CDS')\n",
    "solve.get_local_Pe()"
   ]
  },
  {
   "cell_type": "code",
   "execution_count": null,
   "metadata": {},
   "outputs": [],
   "source": []
  }
 ],
 "metadata": {
  "interpreter": {
   "hash": "aee8b7b246df8f9039afb4144a1f6fd8d2ca17a180786b69acc140d282b71a49"
  },
  "kernelspec": {
   "display_name": "Python 3.8.0 64-bit",
   "language": "python",
   "name": "python3"
  },
  "language_info": {
   "codemirror_mode": {
    "name": "ipython",
    "version": 3
   },
   "file_extension": ".py",
   "mimetype": "text/x-python",
   "name": "python",
   "nbconvert_exporter": "python",
   "pygments_lexer": "ipython3",
   "version": "3.8.0"
  },
  "orig_nbformat": 4
 },
 "nbformat": 4,
 "nbformat_minor": 2
}
