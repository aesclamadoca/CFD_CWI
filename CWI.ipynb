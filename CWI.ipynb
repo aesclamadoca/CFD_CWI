{
 "cells": [
  {
   "cell_type": "code",
   "execution_count": 2,
   "metadata": {},
   "outputs": [],
   "source": [
    "import sys\n",
    "import numpy as np\n",
    "import pandas as pd\n",
    "from matplotlib import pyplot as plt\n"
   ]
  },
  {
   "cell_type": "markdown",
   "metadata": {},
   "source": [
    "# Solver Class"
   ]
  },
  {
   "cell_type": "code",
   "execution_count": 56,
   "metadata": {},
   "outputs": [],
   "source": [
    "class solver():\n",
    "\n",
    "  def __init__(self, \n",
    "              scheme_acronym=\"CDS\",\n",
    "              fluid_velocity=1,\n",
    "              fluid_density = 0.5,\n",
    "              Gamma = 0.5,\n",
    "              domain_L = 1,\n",
    "              inlet_bc = 100,\n",
    "              outlet_bc = 20,\n",
    "              grid_spacing = 1e-4\n",
    "              ):\n",
    "\n",
    "    self.scheme = scheme_acronym\n",
    "    self.u = fluid_velocity\n",
    "    self.rho = fluid_density\n",
    "    self.Gamma = Gamma\n",
    "    self.L = domain_L\n",
    "    self.phi_0 = inlet_bc\n",
    "    self.phi_L = outlet_bc\n",
    "    self.dx = grid_spacing\n",
    "    self.x = np.array([i*self.dx for i in range(int(self.L/self.dx))])\n",
    "\n",
    "  # Getter methods\n",
    "  def get_x(self): return self.x\n",
    "  \n",
    "  # Linear Algebraic Equation Solution Algorithm\n",
    "  def TDMA(self):\n",
    "    for x in self.x:\n",
    "\n",
    "  # def CDS():\n",
    "\n",
    "  # def UDS():\n",
    "  \n",
    "  # def PLDS():\n",
    "\n",
    "  def analytical_soln(self):\n",
    "    global_Pe = self.rho * self.u * self.L / self.Gamma\n",
    "    phi = self.phi_0 + (np.exp(global_Pe * self.x/self.L)-1)/(np.exp(global_Pe)-1) * (self.phi_L-self.phi_0)\n",
    "    return phi\n",
    "  "
   ]
  },
  {
   "cell_type": "markdown",
   "metadata": {},
   "source": [
    "# Plot Analytical Solution"
   ]
  },
  {
   "cell_type": "code",
   "execution_count": 57,
   "metadata": {},
   "outputs": [
    {
     "data": {
      "text/plain": [
       "Text(0, 0.5, '$\\\\phi$')"
      ]
     },
     "execution_count": 57,
     "metadata": {},
     "output_type": "execute_result"
    },
    {
     "data": {
      "image/png": "[encoded data removed]",
      "text/plain": [
       "<Figure size 432x288 with 1 Axes>"
      ]
     },
     "metadata": {
      "needs_background": "light"
     },
     "output_type": "display_data"
    }
   ],
   "source": [
    "solve = solver()\n",
    "\n",
    "plt.plot(solve.get_x(),solve.analytical_soln())\n",
    "plt.xlabel('x')\n",
    "plt.ylabel(r'$\\phi$')\n"
   ]
  },
  {
   "cell_type": "code",
   "execution_count": null,
   "metadata": {},
   "outputs": [],
   "source": []
  }
 ],
 "metadata": {
  "interpreter": {
   "hash": "aee8b7b246df8f9039afb4144a1f6fd8d2ca17a180786b69acc140d282b71a49"
  },
  "kernelspec": {
   "display_name": "Python 3.8.0 64-bit",
   "language": "python",
   "name": "python3"
  },
  "language_info": {
   "codemirror_mode": {
    "name": "ipython",
    "version": 3
   },
   "file_extension": ".py",
   "mimetype": "text/x-python",
   "name": "python",
   "nbconvert_exporter": "python",
   "pygments_lexer": "ipython3",
   "version": "3.8.0"
  },
  "orig_nbformat": 4
 },
 "nbformat": 4,
 "nbformat_minor": 2
}
